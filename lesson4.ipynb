{
  "nbformat": 4,
  "nbformat_minor": 0,
  "metadata": {
    "colab": {
      "provenance": [],
      "authorship_tag": "ABX9TyNdSSAV1rtV2fdpfeBIKBRQ",
      "include_colab_link": true
    },
    "kernelspec": {
      "name": "python3",
      "display_name": "Python 3"
    },
    "language_info": {
      "name": "python"
    }
  },
  "cells": [
    {
      "cell_type": "markdown",
      "metadata": {
        "id": "view-in-github",
        "colab_type": "text"
      },
      "source": [
        "<a href=\"https://colab.research.google.com/github/stoneli1117/PythonColab/blob/main/lesson4.ipynb\" target=\"_parent\"><img src=\"https://colab.research.google.com/assets/colab-badge.svg\" alt=\"Open In Colab\"/></a>"
      ]
    },
    {
      "cell_type": "code",
      "execution_count": null,
      "metadata": {
        "colab": {
          "base_uri": "https://localhost:8080/"
        },
        "id": "PTkQkAbAjsMe",
        "outputId": "61ebefe3-7c92-45a5-d27d-b86ff41556f8"
      },
      "outputs": [
        {
          "output_type": "stream",
          "name": "stdout",
          "text": [
            "3\n",
            "3.1\n",
            "3.14\n"
          ]
        }
      ],
      "source": [
        "print(round(3.14159))\n",
        "print(round(3.14159,ndigits=1))\n",
        "print(round(3.14159,ndigits=2))"
      ]
    },
    {
      "cell_type": "code",
      "source": [
        "\n",
        "print(math.ceil(3.1415926))"
      ],
      "metadata": {
        "colab": {
          "base_uri": "https://localhost:8080/"
        },
        "id": "utcmpFyMmIA4",
        "outputId": "254ffe11-6c6d-4f42-ff9c-9e32feb5a9c9"
      },
      "execution_count": null,
      "outputs": [
        {
          "output_type": "stream",
          "name": "stdout",
          "text": [
            "4\n"
          ]
        }
      ]
    },
    {
      "cell_type": "code",
      "source": [
        "print(math.floor(3.1415926))"
      ],
      "metadata": {
        "colab": {
          "base_uri": "https://localhost:8080/"
        },
        "id": "zLLH8yRYm5Gl",
        "outputId": "e3d10187-3a22-43ef-d097-b610e7b03c55"
      },
      "execution_count": null,
      "outputs": [
        {
          "output_type": "stream",
          "name": "stdout",
          "text": [
            "3\n"
          ]
        }
      ]
    },
    {
      "cell_type": "code",
      "source": [
        "n=10\n",
        "n*=5\n",
        "print(n)"
      ],
      "metadata": {
        "colab": {
          "base_uri": "https://localhost:8080/"
        },
        "id": "fj_kySBEogN2",
        "outputId": "740fafb7-aa4a-478b-96b8-c829d92c6394"
      },
      "execution_count": null,
      "outputs": [
        {
          "output_type": "stream",
          "name": "stdout",
          "text": [
            "50\n"
          ]
        }
      ]
    },
    {
      "cell_type": "code",
      "source": [
        "value= eval(input(\"請輸入任意函數:\"))\n",
        "print(f\"您輸入的數值是{value},平方值是{value **2}\")\n",
        "print(f\"您輸入的數值是{value},平方值是{value **3}\")\n"
      ],
      "metadata": {
        "colab": {
          "base_uri": "https://localhost:8080/"
        },
        "id": "WAGk4BR_vB8l",
        "outputId": "53d2be2e-d0e6-4bff-87f3-a1c92069464d"
      },
      "execution_count": null,
      "outputs": [
        {
          "output_type": "stream",
          "name": "stdout",
          "text": [
            "請輸入任意函數:2\n",
            "您輸入的數值是2,平方值是4\n",
            "您輸入的數值是2,平方值是8\n"
          ]
        }
      ]
    },
    {
      "cell_type": "code",
      "source": [
        "n1 = eval(input(\"請輸入第一數:\"))\n",
        "n2 = eval(input(\"請輸入第二數:\"))\n",
        "n3 = eval(input(\"請輸入第三數:\"))\n",
        "total = n1 + n2 +n3\n",
        "print(f'{n1}+{n2}+{n3}')"
      ],
      "metadata": {
        "colab": {
          "base_uri": "https://localhost:8080/"
        },
        "id": "LMpE2K7uyCfB",
        "outputId": "d6fd9493-7e57-4339-d110-6dc1706c348e"
      },
      "execution_count": null,
      "outputs": [
        {
          "output_type": "stream",
          "name": "stdout",
          "text": [
            "請輸入第一數:1\n",
            "請輸入第二數:2\n",
            "請輸入第三數:3\n",
            "1+2+3\n"
          ]
        }
      ]
    },
    {
      "cell_type": "code",
      "source": [
        "total=0\n",
        "n = eval(input(\"請輸入第一數:\"))\n",
        "total+=n\n",
        "n = eval(input(\"請輸入第二數:\"))\n",
        "total+=n\n",
        "n = eval(input(\"請輸入第三數:\"))\n",
        "total+=n\n",
        "print(f'{total}')"
      ],
      "metadata": {
        "colab": {
          "base_uri": "https://localhost:8080/"
        },
        "id": "CAVM05t2yFJg",
        "outputId": "418899bb-1adf-48ba-d16d-fe907cd820bd"
      },
      "execution_count": null,
      "outputs": [
        {
          "output_type": "stream",
          "name": "stdout",
          "text": [
            "請輸入第一數:1\n",
            "請輸入第二數:2\n",
            "請輸入第三數:3\n",
            "6\n"
          ]
        }
      ]
    },
    {
      "cell_type": "code",
      "source": [
        "from math import degrees\n",
        "#import reian\n",
        "t1=eval(input(\"請輸入直角三角形對邊\"))\n",
        "t2=eval(input(\"請輸入直角三角形斜邊\"))\n",
        "\n",
        "answer=math.asin(t1/t2)\n",
        "degrees=math.degrees(answer)\n",
        "print(degrees)\n",
        "\n"
      ],
      "metadata": {
        "colab": {
          "base_uri": "https://localhost:8080/"
        },
        "id": "T2U8hHRG2m2n",
        "outputId": "e570c2e7-73d9-4f32-abbe-1234a0815095"
      },
      "execution_count": null,
      "outputs": [
        {
          "output_type": "stream",
          "name": "stdout",
          "text": [
            "請輸入直角三角形對邊3\n",
            "請輸入直角三角形斜邊5\n",
            "36.86989764584402\n"
          ]
        }
      ]
    }
  ]
}